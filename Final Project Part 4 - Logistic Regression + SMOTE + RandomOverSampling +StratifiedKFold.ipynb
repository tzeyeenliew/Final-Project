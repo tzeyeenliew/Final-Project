{
 "cells": [
  {
   "cell_type": "markdown",
   "id": "88ef6064",
   "metadata": {},
   "source": [
    "<h2 style=\"font-family: 'Constantia'; font-size: 36px; color: #FFA500;\"> 4 👩‍💻 Logistic Regression + Oversampling 👩‍💻\n",
    "<p style=\"color:#FAC898; font-family: 'Constantia', cursive;\"> 🧠 SMOTE +RandomOversampler + StratifiedKFold Cross Val + Hyperparameter Tuning 🧠 </p></h2>"
   ]
  },
  {
   "cell_type": "markdown",
   "id": "b8a856d6",
   "metadata": {},
   "source": [
    "<img src=\"https://media.tenor.com/IdQJwgoeSNwAAAAC/pokemon-what.gif\" alt= \"Question marks\">"
   ]
  },
  {
   "cell_type": "code",
   "execution_count": 1,
   "id": "039de406",
   "metadata": {},
   "outputs": [],
   "source": [
    "# Basic libraries\n",
    "import pymysql\n",
    "import pandas as pd\n",
    "import numpy as np\n",
    "%matplotlib inline\n",
    "import matplotlib.pyplot as plt\n",
    "import seaborn as sns\n",
    "import missingno as msno # great library for visualisating the distribution of nulls!\n",
    "import statsmodels.api as sm\n",
    "\n",
    "# Hypothesis Testing\n",
    "import math\n",
    "from scipy import stats\n",
    "from scipy.stats import ttest_ind\n",
    "\n",
    "# Machine Learning\n",
    "from sklearn.preprocessing import StandardScaler\n",
    "from sklearn.preprocessing import MinMaxScaler\n",
    "from sklearn.ensemble import RandomForestRegressor\n",
    "from sklearn.model_selection import train_test_split\n",
    "from sklearn.linear_model import LinearRegression\n",
    "from sklearn.neighbors import KNeighborsRegressor\n",
    "from sklearn.neural_network import MLPRegressor\n",
    "from sklearn.metrics import r2_score, mean_squared_error, mean_absolute_error\n",
    "from sklearn.model_selection import GridSearchCV\n",
    "from statsmodels.stats.outliers_influence import variance_inflation_factor\n",
    "from sklearn.linear_model import LogisticRegression\n",
    "from sklearn.metrics import accuracy_score\n",
    "from imblearn.over_sampling import RandomOverSampler\n",
    "from imblearn.under_sampling import RandomUnderSampler\n",
    "from sklearn.metrics import classification_report\n",
    "from sklearn.ensemble import IsolationForest\n",
    "from sklearn.model_selection import GridSearchCV\n",
    "from sklearn import metrics\n",
    "from sklearn.feature_selection import VarianceThreshold\n",
    "from sklearn.ensemble import RandomForestClassifier\n",
    "from sklearn.model_selection import cross_val_score\n",
    "from sklearn.model_selection import StratifiedKFold\n",
    "from imblearn.over_sampling import SMOTE\n",
    "from sklearn.metrics import accuracy_score, precision_score, recall_score, f1_score\n",
    "from sklearn .metrics import roc_curve, roc_auc_score\n",
    "from sklearn.preprocessing import LabelEncoder\n",
    "\n",
    "#Additional binary classification models\n",
    "from sklearn.neighbors import KNeighborsClassifier\n",
    "from sklearn.tree import DecisionTreeClassifier\n",
    "from sklearn.svm import SVC\n",
    "from sklearn.naive_bayes import GaussianNB\n",
    "\n",
    "# Other\n",
    "pd.set_option('display.max_columns', None)\n",
    "import warnings\n",
    "warnings.filterwarnings(\"ignore\")\n",
    "import plotly.express as px\n",
    "%matplotlib inline\n",
    "import re\n",
    "pd.set_option('display.max_rows', None)\n",
    "pd.set_option('display.max_columns', None)"
   ]
  },
  {
   "cell_type": "code",
   "execution_count": 2,
   "id": "be5fed82",
   "metadata": {},
   "outputs": [
    {
     "data": {
      "text/html": [
       "<div>\n",
       "<style scoped>\n",
       "    .dataframe tbody tr th:only-of-type {\n",
       "        vertical-align: middle;\n",
       "    }\n",
       "\n",
       "    .dataframe tbody tr th {\n",
       "        vertical-align: top;\n",
       "    }\n",
       "\n",
       "    .dataframe thead th {\n",
       "        text-align: right;\n",
       "    }\n",
       "</style>\n",
       "<table border=\"1\" class=\"dataframe\">\n",
       "  <thead>\n",
       "    <tr style=\"text-align: right;\">\n",
       "      <th></th>\n",
       "      <th>base_total</th>\n",
       "      <th>capture_rate</th>\n",
       "      <th>experience_growth</th>\n",
       "      <th>height_m</th>\n",
       "      <th>hp</th>\n",
       "      <th>percentage_male</th>\n",
       "      <th>weight_kg</th>\n",
       "      <th>generation</th>\n",
       "      <th>is_legendary</th>\n",
       "      <th>is_genderless</th>\n",
       "    </tr>\n",
       "  </thead>\n",
       "  <tbody>\n",
       "    <tr>\n",
       "      <th>0</th>\n",
       "      <td>318</td>\n",
       "      <td>45</td>\n",
       "      <td>1059860</td>\n",
       "      <td>0.7</td>\n",
       "      <td>45</td>\n",
       "      <td>88.1</td>\n",
       "      <td>6.9</td>\n",
       "      <td>1</td>\n",
       "      <td>0</td>\n",
       "      <td>0</td>\n",
       "    </tr>\n",
       "    <tr>\n",
       "      <th>1</th>\n",
       "      <td>405</td>\n",
       "      <td>45</td>\n",
       "      <td>1059860</td>\n",
       "      <td>1.0</td>\n",
       "      <td>60</td>\n",
       "      <td>88.1</td>\n",
       "      <td>13.0</td>\n",
       "      <td>1</td>\n",
       "      <td>0</td>\n",
       "      <td>0</td>\n",
       "    </tr>\n",
       "    <tr>\n",
       "      <th>2</th>\n",
       "      <td>625</td>\n",
       "      <td>45</td>\n",
       "      <td>1059860</td>\n",
       "      <td>2.0</td>\n",
       "      <td>80</td>\n",
       "      <td>88.1</td>\n",
       "      <td>100.0</td>\n",
       "      <td>1</td>\n",
       "      <td>0</td>\n",
       "      <td>0</td>\n",
       "    </tr>\n",
       "    <tr>\n",
       "      <th>3</th>\n",
       "      <td>309</td>\n",
       "      <td>45</td>\n",
       "      <td>1059860</td>\n",
       "      <td>0.6</td>\n",
       "      <td>39</td>\n",
       "      <td>88.1</td>\n",
       "      <td>8.5</td>\n",
       "      <td>1</td>\n",
       "      <td>0</td>\n",
       "      <td>0</td>\n",
       "    </tr>\n",
       "    <tr>\n",
       "      <th>4</th>\n",
       "      <td>405</td>\n",
       "      <td>45</td>\n",
       "      <td>1059860</td>\n",
       "      <td>1.1</td>\n",
       "      <td>58</td>\n",
       "      <td>88.1</td>\n",
       "      <td>19.0</td>\n",
       "      <td>1</td>\n",
       "      <td>0</td>\n",
       "      <td>0</td>\n",
       "    </tr>\n",
       "  </tbody>\n",
       "</table>\n",
       "</div>"
      ],
      "text/plain": [
       "   base_total  capture_rate  experience_growth  height_m  hp  percentage_male  \\\n",
       "0         318            45            1059860       0.7  45             88.1   \n",
       "1         405            45            1059860       1.0  60             88.1   \n",
       "2         625            45            1059860       2.0  80             88.1   \n",
       "3         309            45            1059860       0.6  39             88.1   \n",
       "4         405            45            1059860       1.1  58             88.1   \n",
       "\n",
       "   weight_kg  generation  is_legendary  is_genderless  \n",
       "0        6.9           1             0              0  \n",
       "1       13.0           1             0              0  \n",
       "2      100.0           1             0              0  \n",
       "3        8.5           1             0              0  \n",
       "4       19.0           1             0              0  "
      ]
     },
     "execution_count": 2,
     "metadata": {},
     "output_type": "execute_result"
    }
   ],
   "source": [
    "data=pd.read_csv('pokemon_cleaned.csv')\n",
    "data.head()"
   ]
  },
  {
   "cell_type": "code",
   "execution_count": 3,
   "id": "c9804a9b",
   "metadata": {},
   "outputs": [
    {
     "name": "stdout",
     "output_type": "stream",
     "text": [
      "<class 'pandas.core.frame.DataFrame'>\n",
      "RangeIndex: 801 entries, 0 to 800\n",
      "Data columns (total 10 columns):\n",
      " #   Column             Non-Null Count  Dtype  \n",
      "---  ------             --------------  -----  \n",
      " 0   base_total         801 non-null    int64  \n",
      " 1   capture_rate       801 non-null    int64  \n",
      " 2   experience_growth  801 non-null    int64  \n",
      " 3   height_m           801 non-null    float64\n",
      " 4   hp                 801 non-null    int64  \n",
      " 5   percentage_male    801 non-null    float64\n",
      " 6   weight_kg          801 non-null    float64\n",
      " 7   generation         801 non-null    int64  \n",
      " 8   is_legendary       801 non-null    int64  \n",
      " 9   is_genderless      801 non-null    int64  \n",
      "dtypes: float64(3), int64(7)\n",
      "memory usage: 62.7 KB\n"
     ]
    }
   ],
   "source": [
    "data.info()"
   ]
  },
  {
   "cell_type": "code",
   "execution_count": 4,
   "id": "9c9101ad",
   "metadata": {},
   "outputs": [],
   "source": [
    "#Baseline Model After Scaling- Without Over or UnderSampling"
   ]
  },
  {
   "cell_type": "code",
   "execution_count": 5,
   "id": "e85fd84b",
   "metadata": {},
   "outputs": [
    {
     "data": {
      "text/plain": [
       "0    731\n",
       "1     70\n",
       "Name: is_legendary, dtype: int64"
      ]
     },
     "execution_count": 5,
     "metadata": {},
     "output_type": "execute_result"
    }
   ],
   "source": [
    "data['is_legendary'].value_counts()"
   ]
  },
  {
   "cell_type": "code",
   "execution_count": 6,
   "id": "fa34cfbf",
   "metadata": {},
   "outputs": [
    {
     "data": {
      "text/plain": [
       "No     731\n",
       "Yes     70\n",
       "Name: is_legendary, dtype: int64"
      ]
     },
     "execution_count": 6,
     "metadata": {},
     "output_type": "execute_result"
    }
   ],
   "source": [
    "data['is_legendary']= data['is_legendary'].replace({0:'No', 1:'Yes'}) #renaming rows before training the model\n",
    "data['is_legendary'].value_counts()"
   ]
  },
  {
   "cell_type": "code",
   "execution_count": 7,
   "id": "cc456dd7",
   "metadata": {},
   "outputs": [],
   "source": [
    "# Encoding the target variable - I initially renamed the 0 and 1s from is+legendary to \"Yes\" and \"No\" so it would be easier for me to interpret as I cleaned my data"
   ]
  },
  {
   "cell_type": "code",
   "execution_count": 8,
   "id": "ae7d0861",
   "metadata": {},
   "outputs": [],
   "source": [
    "label_encoder = LabelEncoder()\n",
    "data['is_legendary'] = label_encoder.fit_transform(data['is_legendary'])"
   ]
  },
  {
   "cell_type": "code",
   "execution_count": 9,
   "id": "05de151b",
   "metadata": {},
   "outputs": [],
   "source": [
    "features = ['base_total', 'capture_rate', 'experience_growth', 'height_m', 'hp', 'percentage_male', 'weight_kg', 'generation', 'is_legendary', 'is_genderless']\n",
    "X= data[features]\n",
    "y= data['is_legendary']\n",
    "\n",
    "scaler=StandardScaler() #MinMaxScaler\n",
    "X_scaled=scaler.fit_transform(X)"
   ]
  },
  {
   "cell_type": "code",
   "execution_count": 10,
   "id": "0fe39a70",
   "metadata": {},
   "outputs": [],
   "source": [
    "#I chose Standard Scaler because it is less susceptible to outliers, which means the outliers I have left intact in this project has less influence on the scaling process."
   ]
  },
  {
   "cell_type": "code",
   "execution_count": 11,
   "id": "97848c97",
   "metadata": {},
   "outputs": [],
   "source": [
    "X_train, X_test, y_train, y_test= train_test_split(X_scaled, y, test_size=0.3, random_state=42)\n",
    "logisticregression=LogisticRegression()\n",
    "logisticregression.fit(X_train, y_train)\n",
    "predictions= logisticregression.predict(X_test)"
   ]
  },
  {
   "cell_type": "code",
   "execution_count": 12,
   "id": "ef81d99a",
   "metadata": {},
   "outputs": [
    {
     "name": "stdout",
     "output_type": "stream",
     "text": [
      "\n",
      "Accuracy: 1.00\n",
      "\n"
     ]
    }
   ],
   "source": [
    "print('\\nAccuracy: {:.2f}\\n'.format(accuracy_score(y_test,predictions)))"
   ]
  },
  {
   "cell_type": "code",
   "execution_count": 13,
   "id": "ba0cc2d7",
   "metadata": {},
   "outputs": [
    {
     "name": "stdout",
     "output_type": "stream",
     "text": [
      "              precision    recall  f1-score   support\n",
      "\n",
      "           0       1.00      1.00      1.00       216\n",
      "           1       1.00      1.00      1.00        25\n",
      "\n",
      "    accuracy                           1.00       241\n",
      "   macro avg       1.00      1.00      1.00       241\n",
      "weighted avg       1.00      1.00      1.00       241\n",
      "\n"
     ]
    }
   ],
   "source": [
    "print(classification_report(y_test, predictions))"
   ]
  },
  {
   "cell_type": "code",
   "execution_count": 14,
   "id": "a74f17a7",
   "metadata": {},
   "outputs": [
    {
     "data": {
      "image/png": "[encoded data removed]",
      "text/plain": [
       "<Figure size 800x400 with 2 Axes>"
      ]
     },
     "metadata": {},
     "output_type": "display_data"
    }
   ],
   "source": [
    "classification_data={\"precision\":[0.98, 0.91], \"recall\":[0.99,0.84], \"f1-score\":[0.99, 0.87], \"support\": [216, 25]}\n",
    "classification_df= pd.DataFrame(classification_data, index=['No','Yes'])\n",
    "\n",
    "plt.figure(figsize=(8,4))\n",
    "sns.heatmap(classification_df, annot=True, cmap='Blues', fmt=\".2f\", vmin=0, vmax=1, linewidths= 0.5)\n",
    "plt.title(\"Classification Report Visualization\")\n",
    "plt.xlabel(\"Metrics\")\n",
    "plt.ylabel(\"Class\")\n",
    "plt.show()"
   ]
  },
  {
   "cell_type": "code",
   "execution_count": 15,
   "id": "bc828e71",
   "metadata": {},
   "outputs": [
    {
     "data": {
      "image/png": "[encoded data removed]",
      "text/plain": [
       "<Figure size 640x480 with 2 Axes>"
      ]
     },
     "metadata": {},
     "output_type": "display_data"
    }
   ],
   "source": [
    "confusion_matrix = metrics.confusion_matrix(y_test, predictions)\n",
    "cm_display = metrics.ConfusionMatrixDisplay(confusion_matrix = confusion_matrix, display_labels = [False, True])\n",
    "cm_display.plot(cmap='RdPu', values_format='d')\n",
    "plt.text(0.5, 1.15, 'Confusion Matrix', fontsize=16, ha='center', va='center', transform=plt.gca().transAxes)\n",
    "plt.show()"
   ]
  },
  {
   "cell_type": "code",
   "execution_count": 16,
   "id": "fc1c2e72",
   "metadata": {},
   "outputs": [],
   "source": [
    "#Is this a case of overfitting? Running a K Fold Cross Validation analysis should be able tell us if it really is the case of premature celebration"
   ]
  },
  {
   "cell_type": "code",
   "execution_count": 17,
   "id": "3418753e",
   "metadata": {},
   "outputs": [
    {
     "name": "stdout",
     "output_type": "stream",
     "text": [
      "Fold 1: Accuracy = 0.96\n",
      "Fold 2: Accuracy = 0.94\n",
      "Fold 3: Accuracy = 0.99\n",
      "Fold 4: Accuracy = 0.99\n",
      "Fold 5: Accuracy = 0.96\n",
      "Fold 6: Accuracy = 0.97\n",
      "Fold 7: Accuracy = 0.94\n",
      "Fold 8: Accuracy = 0.96\n",
      "Fold 9: Accuracy = 0.97\n",
      "Fold 10: Accuracy = 0.96\n",
      "\n",
      "Mean Accuracy: 0.97\n",
      "\n"
     ]
    }
   ],
   "source": [
    "\n",
    "features = data.drop(columns=['is_legendary']) \n",
    "target = data['is_legendary']  \n",
    "\n",
    "classifier = LogisticRegression()  # My chosen classifier\n",
    "\n",
    "# Define the number of folds for cross-validation (k)\n",
    "num_folds = 10  \n",
    "\n",
    "# Create a k-fold cross-validation object\n",
    "kf = StratifiedKFold(n_splits=num_folds, shuffle=True, random_state=42)\n",
    "\n",
    "# Perform cross-validation and get the accuracy scores for each fold\n",
    "accuracy_scores = cross_val_score(classifier, features, target, cv=kf, scoring='accuracy')\n",
    "\n",
    "# Print the accuracy scores for each fold\n",
    "for fold_num, accuracy in enumerate(accuracy_scores, start=1):\n",
    "    print(f\"Fold {fold_num}: Accuracy = {accuracy:.2f}\")\n",
    "\n",
    "# Calculate the mean accuracy across all folds\n",
    "mean_accuracy = accuracy_scores.mean()\n",
    "\n",
    "print('\\nMean Accuracy: {:.2f}\\n'.format(mean_accuracy))"
   ]
  },
  {
   "cell_type": "code",
   "execution_count": 18,
   "id": "1fc93b50",
   "metadata": {},
   "outputs": [],
   "source": [
    "# It isn't a case overfitting! But there is still room to improve the prediction, recall and f1 scores of 'Yes' predictions before moving on to other models"
   ]
  },
  {
   "cell_type": "code",
   "execution_count": 19,
   "id": "e3ebad6b",
   "metadata": {},
   "outputs": [],
   "source": [
    "#Oversampling the minority class using Random Oversampler\n"
   ]
  },
  {
   "cell_type": "code",
   "execution_count": 20,
   "id": "8cfd8cbd",
   "metadata": {},
   "outputs": [],
   "source": [
    "ros= RandomOverSampler()\n",
    "X_ros,y_ros= ros.fit_resample(X,y)"
   ]
  },
  {
   "cell_type": "code",
   "execution_count": 21,
   "id": "59589fae",
   "metadata": {},
   "outputs": [
    {
     "data": {
      "text/plain": [
       "0    731\n",
       "1    731\n",
       "Name: is_legendary, dtype: int64"
      ]
     },
     "execution_count": 21,
     "metadata": {},
     "output_type": "execute_result"
    }
   ],
   "source": [
    "y_ros.value_counts()"
   ]
  },
  {
   "cell_type": "code",
   "execution_count": 22,
   "id": "ff2c13e6",
   "metadata": {},
   "outputs": [
    {
     "name": "stdout",
     "output_type": "stream",
     "text": [
      "Accuracy after RandomOversampler: 1.0\n"
     ]
    }
   ],
   "source": [
    "classification = LogisticRegression() \n",
    "\n",
    "transformer = StandardScaler().fit(X_ros)\n",
    "X = transformer.transform(X_ros)\n",
    "X_train, X_test, y_train, y_test = train_test_split(X, y_ros, test_size=0.3, random_state=100)# Create an instance of the LogisticRegression class\n",
    "classification.fit(X_train, y_train)\n",
    "predictions = classification.predict(X_test)\n",
    "accuracy= accuracy_score(y_test, predictions)\n",
    "\n",
    "print(\"Accuracy after RandomOversampler:\", accuracy)\n"
   ]
  },
  {
   "cell_type": "code",
   "execution_count": 23,
   "id": "b2118c1a",
   "metadata": {},
   "outputs": [
    {
     "name": "stdout",
     "output_type": "stream",
     "text": [
      "              precision    recall  f1-score   support\n",
      "\n",
      "           0       1.00      1.00      1.00       220\n",
      "           1       1.00      1.00      1.00       219\n",
      "\n",
      "    accuracy                           1.00       439\n",
      "   macro avg       1.00      1.00      1.00       439\n",
      "weighted avg       1.00      1.00      1.00       439\n",
      "\n"
     ]
    }
   ],
   "source": [
    "report = classification_report(y_test, predictions)\n",
    "print(report)"
   ]
  },
  {
   "cell_type": "code",
   "execution_count": 24,
   "id": "a9b4de6b",
   "metadata": {},
   "outputs": [
    {
     "name": "stdout",
     "output_type": "stream",
     "text": [
      "Fold 1: Accuracy = 0.95\n",
      "Fold 2: Accuracy = 0.92\n",
      "Fold 3: Accuracy = 0.92\n",
      "Fold 4: Accuracy = 0.90\n",
      "Fold 5: Accuracy = 0.91\n",
      "Fold 6: Accuracy = 0.93\n",
      "Fold 7: Accuracy = 0.90\n",
      "Fold 8: Accuracy = 0.95\n",
      "Fold 9: Accuracy = 0.95\n",
      "Fold 10: Accuracy = 0.90\n",
      "\n",
      "Mean Accuracy: 0.92\n",
      "\n"
     ]
    }
   ],
   "source": [
    "# Define the number of folds for cross-validation (k)\n",
    "num_folds = 10  # You can change this value as per your requirement\n",
    "\n",
    "# Create a k-fold cross-validation object\n",
    "kf = StratifiedKFold(n_splits=num_folds, shuffle=True, random_state=42)\n",
    "\n",
    "# Perform cross-validation and get the accuracy scores for each fold\n",
    "accuracy_scores = cross_val_score(classification, X_ros, y_ros, cv=kf, scoring='accuracy')\n",
    "\n",
    "# Print the accuracy scores for each fold\n",
    "for fold_num, accuracy in enumerate(accuracy_scores, start=1):\n",
    "    print(f\"Fold {fold_num}: Accuracy = {accuracy:.2f}\")\n",
    "\n",
    "# Calculate the mean accuracy across all folds\n",
    "mean_accuracy = accuracy_scores.mean()\n",
    "\n",
    "print('\\nMean Accuracy: {:.2f}\\n'.format(mean_accuracy))"
   ]
  },
  {
   "cell_type": "code",
   "execution_count": null,
   "id": "a2479825",
   "metadata": {},
   "outputs": [],
   "source": [
    "# Disparity in accuracy is an indication of overfitting, as StratifiedKFolds tests the model on multiple sets of unseen data. That means we should try SMOTE instead!!!!"
   ]
  },
  {
   "cell_type": "code",
   "execution_count": 25,
   "id": "ffff032a",
   "metadata": {},
   "outputs": [],
   "source": [
    "#Oversampling the minority class using SMOTE"
   ]
  },
  {
   "cell_type": "code",
   "execution_count": 26,
   "id": "5faddec1",
   "metadata": {},
   "outputs": [
    {
     "data": {
      "text/html": [
       "<div>\n",
       "<style scoped>\n",
       "    .dataframe tbody tr th:only-of-type {\n",
       "        vertical-align: middle;\n",
       "    }\n",
       "\n",
       "    .dataframe tbody tr th {\n",
       "        vertical-align: top;\n",
       "    }\n",
       "\n",
       "    .dataframe thead th {\n",
       "        text-align: right;\n",
       "    }\n",
       "</style>\n",
       "<table border=\"1\" class=\"dataframe\">\n",
       "  <thead>\n",
       "    <tr style=\"text-align: right;\">\n",
       "      <th></th>\n",
       "      <th>base_total</th>\n",
       "      <th>capture_rate</th>\n",
       "      <th>experience_growth</th>\n",
       "      <th>height_m</th>\n",
       "      <th>hp</th>\n",
       "      <th>percentage_male</th>\n",
       "      <th>weight_kg</th>\n",
       "      <th>generation</th>\n",
       "      <th>is_legendary</th>\n",
       "      <th>is_genderless</th>\n",
       "    </tr>\n",
       "  </thead>\n",
       "  <tbody>\n",
       "    <tr>\n",
       "      <th>0</th>\n",
       "      <td>318</td>\n",
       "      <td>45</td>\n",
       "      <td>1059860</td>\n",
       "      <td>0.7</td>\n",
       "      <td>45</td>\n",
       "      <td>88.1</td>\n",
       "      <td>6.9</td>\n",
       "      <td>1</td>\n",
       "      <td>0</td>\n",
       "      <td>0</td>\n",
       "    </tr>\n",
       "    <tr>\n",
       "      <th>1</th>\n",
       "      <td>405</td>\n",
       "      <td>45</td>\n",
       "      <td>1059860</td>\n",
       "      <td>1.0</td>\n",
       "      <td>60</td>\n",
       "      <td>88.1</td>\n",
       "      <td>13.0</td>\n",
       "      <td>1</td>\n",
       "      <td>0</td>\n",
       "      <td>0</td>\n",
       "    </tr>\n",
       "    <tr>\n",
       "      <th>2</th>\n",
       "      <td>625</td>\n",
       "      <td>45</td>\n",
       "      <td>1059860</td>\n",
       "      <td>2.0</td>\n",
       "      <td>80</td>\n",
       "      <td>88.1</td>\n",
       "      <td>100.0</td>\n",
       "      <td>1</td>\n",
       "      <td>0</td>\n",
       "      <td>0</td>\n",
       "    </tr>\n",
       "    <tr>\n",
       "      <th>3</th>\n",
       "      <td>309</td>\n",
       "      <td>45</td>\n",
       "      <td>1059860</td>\n",
       "      <td>0.6</td>\n",
       "      <td>39</td>\n",
       "      <td>88.1</td>\n",
       "      <td>8.5</td>\n",
       "      <td>1</td>\n",
       "      <td>0</td>\n",
       "      <td>0</td>\n",
       "    </tr>\n",
       "    <tr>\n",
       "      <th>4</th>\n",
       "      <td>405</td>\n",
       "      <td>45</td>\n",
       "      <td>1059860</td>\n",
       "      <td>1.1</td>\n",
       "      <td>58</td>\n",
       "      <td>88.1</td>\n",
       "      <td>19.0</td>\n",
       "      <td>1</td>\n",
       "      <td>0</td>\n",
       "      <td>0</td>\n",
       "    </tr>\n",
       "  </tbody>\n",
       "</table>\n",
       "</div>"
      ],
      "text/plain": [
       "   base_total  capture_rate  experience_growth  height_m  hp  percentage_male  \\\n",
       "0         318            45            1059860       0.7  45             88.1   \n",
       "1         405            45            1059860       1.0  60             88.1   \n",
       "2         625            45            1059860       2.0  80             88.1   \n",
       "3         309            45            1059860       0.6  39             88.1   \n",
       "4         405            45            1059860       1.1  58             88.1   \n",
       "\n",
       "   weight_kg  generation  is_legendary  is_genderless  \n",
       "0        6.9           1             0              0  \n",
       "1       13.0           1             0              0  \n",
       "2      100.0           1             0              0  \n",
       "3        8.5           1             0              0  \n",
       "4       19.0           1             0              0  "
      ]
     },
     "execution_count": 26,
     "metadata": {},
     "output_type": "execute_result"
    }
   ],
   "source": [
    "data= pd.read_csv('pokemon_cleaned.csv')\n",
    "data.head()"
   ]
  },
  {
   "cell_type": "code",
   "execution_count": 28,
   "id": "9be681da",
   "metadata": {},
   "outputs": [
    {
     "data": {
      "text/plain": [
       "0    731\n",
       "1    731\n",
       "Name: is_legendary, dtype: int64"
      ]
     },
     "execution_count": 28,
     "metadata": {},
     "output_type": "execute_result"
    }
   ],
   "source": [
    "smote= SMOTE() \n",
    "features = ['base_total', 'capture_rate', 'experience_growth', 'height_m', 'hp', 'percentage_male', 'weight_kg', 'generation', 'is_legendary', 'is_genderless']\n",
    "X= data[features]\n",
    "y= data['is_legendary']\n",
    "X_sm, y_sm= smote.fit_resample(X, y)\n",
    "y_sm.value_counts()"
   ]
  },
  {
   "cell_type": "code",
   "execution_count": 29,
   "id": "b3cafa04",
   "metadata": {},
   "outputs": [],
   "source": [
    "X_train, X_test, y_train, y_test= train_test_split(X_sm, y_sm, test_size=0.3, random_state=42)\n",
    "logisticregression_smote= LogisticRegression()\n",
    "logisticregression_smote.fit(X_train, y_train)\n",
    "y_pred=logisticregression_smote.predict(X_test)\n",
    "accuracy= accuracy_score(y_test, y_pred)"
   ]
  },
  {
   "cell_type": "code",
   "execution_count": 30,
   "id": "a8e9e9c0",
   "metadata": {},
   "outputs": [
    {
     "name": "stdout",
     "output_type": "stream",
     "text": [
      "Accuracy after SMOTE: 0.9430523917995444\n"
     ]
    }
   ],
   "source": [
    "print(\"Accuracy after SMOTE:\", accuracy)"
   ]
  },
  {
   "cell_type": "code",
   "execution_count": 31,
   "id": "a34acaf5",
   "metadata": {},
   "outputs": [
    {
     "name": "stdout",
     "output_type": "stream",
     "text": [
      "              precision    recall  f1-score   support\n",
      "\n",
      "           0       0.95      0.94      0.94       222\n",
      "           1       0.94      0.95      0.94       217\n",
      "\n",
      "    accuracy                           0.94       439\n",
      "   macro avg       0.94      0.94      0.94       439\n",
      "weighted avg       0.94      0.94      0.94       439\n",
      "\n"
     ]
    }
   ],
   "source": [
    "report=classification_report(y_test,y_pred)\n",
    "print(report)"
   ]
  },
  {
   "cell_type": "code",
   "execution_count": 32,
   "id": "a7bc21a9",
   "metadata": {},
   "outputs": [
    {
     "name": "stdout",
     "output_type": "stream",
     "text": [
      "Fold 1: Accuracy = 0.95\n",
      "Fold 2: Accuracy = 0.96\n",
      "Fold 3: Accuracy = 0.91\n",
      "Fold 4: Accuracy = 0.95\n",
      "Fold 5: Accuracy = 0.95\n",
      "Fold 6: Accuracy = 0.97\n",
      "Fold 7: Accuracy = 0.90\n",
      "Fold 8: Accuracy = 0.93\n",
      "Fold 9: Accuracy = 0.93\n",
      "Fold 10: Accuracy = 0.96\n",
      "\n",
      "Mean Accuracy: 0.94\n",
      "\n"
     ]
    }
   ],
   "source": [
    "# Define the number of folds for cross-validation (k)\n",
    "num_folds = 10  # You can change this value as per your requirement\n",
    "\n",
    "# Create a k-fold cross-validation object\n",
    "kf = StratifiedKFold(n_splits=num_folds, shuffle=True, random_state=42)\n",
    "\n",
    "# Perform cross-validation and get the accuracy scores for each fold\n",
    "accuracy_scores = cross_val_score(logisticregression_smote, X_sm, y_sm, cv=kf, scoring='accuracy')\n",
    "\n",
    "# Print the accuracy scores for each fold\n",
    "for fold_num, accuracy in enumerate(accuracy_scores, start=1):\n",
    "    print(f\"Fold {fold_num}: Accuracy = {accuracy:.2f}\")\n",
    "\n",
    "# Calculate the mean accuracy across all folds\n",
    "mean_accuracy = accuracy_scores.mean()\n",
    "\n",
    "print('\\nMean Accuracy: {:.2f}\\n'.format(mean_accuracy))"
   ]
  },
  {
   "cell_type": "code",
   "execution_count": 34,
   "id": "3045b7ce",
   "metadata": {},
   "outputs": [],
   "source": [
    "#Hyperparameter Tuning -- Credits to Finn Qiao, code adapted from[here](https://towardsdatascience.com/logistic-regression-model-tuning-with-scikit-learn-part-1-425142e01af5)"
   ]
  },
  {
   "cell_type": "code",
   "execution_count": 35,
   "id": "9023ed1c",
   "metadata": {
    "scrolled": false
   },
   "outputs": [
    {
     "name": "stdout",
     "output_type": "stream",
     "text": [
      "              precision    recall  f1-score   support\n",
      "\n",
      "           0       1.00      1.00      1.00       222\n",
      "           1       1.00      1.00      1.00       217\n",
      "\n",
      "    accuracy                           1.00       439\n",
      "   macro avg       1.00      1.00      1.00       439\n",
      "weighted avg       1.00      1.00      1.00       439\n",
      "\n"
     ]
    }
   ],
   "source": [
    "logisticregression_smote = LogisticRegression() # define the hyperparameter grid\n",
    "param_grid =  {'penalty' : ['l1', 'l2'], # lasso or ridge regularization?\n",
    "    'C' : np.logspace(-4, 4, 20),\n",
    "    'solver' : ['liblinear'],} # is suitable for small to medium datasets for binary classification\n",
    "\n",
    "grid_search = GridSearchCV(logisticregression_smote, param_grid, cv=5) # create the GridSearchCv object  \n",
    "grid_search.fit(X_train, y_train) # fit the above object to my training data\n",
    "    \n",
    "best_params= grid_search.best_params_ # what are the best hyperparameters that were found during the GridSearchCV process?\n",
    "best_model= grid_search.best_estimator_ # define before fitting, because the best hyperparameters will be saved into this model and i will use this to evaluate the model \n",
    "\n",
    "y_pred = best_model.predict(X_test) # let's make predictions based on the hyperparameters we found\n",
    "    \n",
    "accuracy = accuracy_score(y_test, y_pred)\n",
    "precision = precision_score(y_test, y_pred) # because the positive label parameter is set to one, but in actuality i've renamed it to 'Yes'\n",
    "recall = recall_score(y_test, y_pred)\n",
    "f1 = f1_score(y_test, y_pred)\n",
    "report = classification_report(y_test, y_pred)\n",
    "print(report)\n",
    "    "
   ]
  },
  {
   "cell_type": "code",
   "execution_count": 36,
   "id": "ce87303e",
   "metadata": {},
   "outputs": [
    {
     "data": {
      "image/png": "[encoded data removed]",
      "text/plain": [
       "<Figure size 800x400 with 2 Axes>"
      ]
     },
     "metadata": {},
     "output_type": "display_data"
    }
   ],
   "source": [
    "classification_data={\"precision\":[1.00, 0.96], \"recall\":[0.96,1.00], \"f1-score\":[0.98, 0.98], \"support\": [220, 219]}\n",
    "classification_df= pd.DataFrame(classification_data, index=['No','Yes'])\n",
    "\n",
    "plt.figure(figsize=(8,4))\n",
    "sns.heatmap(classification_df, annot=True, cmap='Blues', fmt=\".2f\", vmin=0, vmax=1, linewidths= 0.5)\n",
    "plt.title(\"Classification Report Visualization after Hyperparamater Tuning\")\n",
    "plt.xlabel(\"Metrics\")\n",
    "plt.ylabel(\"Class\")\n",
    "plt.show()"
   ]
  },
  {
   "cell_type": "markdown",
   "id": "86e37f5e",
   "metadata": {},
   "source": [
    "#AUC (Area Under Curve) Score - credits to Sarang Narkhede, code adapted from [here](https://towardsdatascience.com/understanding-auc-roc-curve-68b2303cc9c5)"
   ]
  },
  {
   "cell_type": "code",
   "execution_count": null,
   "id": "5cb8ffcf",
   "metadata": {},
   "outputs": [],
   "source": [
    "label_encoder = LabelEncoder() #because my target variable, is_legendary, is in string format...label encoder works well on columns with 2 categories\n",
    "y_test_numeric = label_encoder.fit_transform(y_test)\n",
    "y_pred_numeric = label_encoder.transform(y_pred)\n",
    "auc = np.round(roc_auc_score(y_test_numeric, y_pred_numeric), 3)\n",
    "print(\"Auc for the model after hyperparameter tuning is {}\".format(auc))"
   ]
  },
  {
   "cell_type": "code",
   "execution_count": null,
   "id": "8fcb10b6",
   "metadata": {},
   "outputs": [],
   "source": [
    "#Using StratifiedKFold once again to cross validate"
   ]
  },
  {
   "cell_type": "code",
   "execution_count": null,
   "id": "ab81a89e",
   "metadata": {},
   "outputs": [],
   "source": [
    "best_model = LogisticRegression()  # as defined above\n",
    "\n",
    "# Define the number of folds for cross-validation (k)\n",
    "num_folds = 10  # You can change this value as per your requirement\n",
    "\n",
    "# Create a k-fold cross-validation object\n",
    "kf = StratifiedKFold(n_splits=num_folds, shuffle=True, random_state=42)\n",
    "\n",
    "# Perform cross-validation and get the accuracy scores for each fold\n",
    "accuracy_scores = cross_val_score(best_model, features, target, cv=kf, scoring='accuracy')\n",
    "\n",
    "# Print the accuracy scores for each fold\n",
    "for fold_num, accuracy in enumerate(accuracy_scores, start=1):\n",
    "    print(f\"Fold {fold_num}: Accuracy = {accuracy:.2f}\")\n",
    "\n",
    "# Calculate the mean accuracy across all folds\n",
    "mean_accuracy = accuracy_scores.mean()\n",
    "\n",
    "print('\\nMean Accuracy: {:.2f}\\n'.format(mean_accuracy))"
   ]
  },
  {
   "cell_type": "code",
   "execution_count": null,
   "id": "2202ba28",
   "metadata": {},
   "outputs": [],
   "source": [
    "# There is little evidence of overfitting as the model performs fairly well across all 10 folds :)"
   ]
  }
 ],
 "metadata": {
  "kernelspec": {
   "display_name": "Python 3 (ipykernel)",
   "language": "python",
   "name": "python3"
  },
  "language_info": {
   "codemirror_mode": {
    "name": "ipython",
    "version": 3
   },
   "file_extension": ".py",
   "mimetype": "text/x-python",
   "name": "python",
   "nbconvert_exporter": "python",
   "pygments_lexer": "ipython3",
   "version": "3.9.13"
  }
 },
 "nbformat": 4,
 "nbformat_minor": 5
}
